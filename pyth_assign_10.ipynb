{
 "cells": [
  {
   "cell_type": "markdown",
   "id": "5afeb4a7",
   "metadata": {},
   "source": [
    "# 1."
   ]
  },
  {
   "cell_type": "code",
   "execution_count": 3,
   "id": "573f9479",
   "metadata": {},
   "outputs": [],
   "source": [
    "# shutil.copy() and shutil.copytree() are functions provided by the shutil module in Python for copying files and directories, \n",
    "#  respectively. Here are the key differences between these two functions:\n",
    "\n",
    "# a) Purpose:\n",
    "# i) shutil.copy(): Used to copy a single file from one location to another.\n",
    "# ii) shutil.copytree(): Used to copy an entire directory and its contents (including subdirectories and files) from one\n",
    "#     location to another.\n",
    "\n",
    "# b) Parameters:\n",
    "# i) shutil.copy(src, dst): Takes two arguments - src (source file path) and dst (destination file path). \n",
    "# ii) shutil.copytree(src, dst): Also takes two arguments - src (source directory path) and dst (destination directory path).\n",
    "    \n",
    "# c) Handling Existing Files/Directories:\n",
    "# i) shutil.copy(): If the destination file already exists, it will be overwritten.\n",
    "# ii) shutil.copytree(): If the destination directory already exists, a FileExistsError will be raised. \n",
    "    \n",
    "# d)Recursion:\n",
    "# i) shutil.copy(): Operates on a single file and does not handle directories or subdirectories.\n",
    "# ii) shutil.copytree(): Recursively copies all files and subdirectories within the source directory to the destination directory.\n",
    "\n",
    "# e)Usage:\n",
    "# i) shutil.copy(): Use when you need to copy individual files.\n",
    "# ii) shutil.copytree(): Use when you need to copy entire directory structures with all their contents.\n",
    "\n",
    "# f)Return Value:\n",
    "# Both functions return the path to the copied file or directory."
   ]
  },
  {
   "cell_type": "markdown",
   "id": "f2170374",
   "metadata": {},
   "source": [
    "# 2."
   ]
  },
  {
   "cell_type": "code",
   "execution_count": 2,
   "id": "42c03914",
   "metadata": {},
   "outputs": [],
   "source": [
    "# In Python, the os.rename() function is used to rename files. It is part of the built-in os module, which provides various \n",
    "#  operating system-related functionalities.\n",
    "\n",
    "#example:\n",
    "import os\n",
    "\n",
    "# Rename a file\n",
    "os.rename('new_file.txt', 'file.txt')"
   ]
  },
  {
   "cell_type": "markdown",
   "id": "dbf2672a",
   "metadata": {},
   "source": [
    "# 3."
   ]
  },
  {
   "cell_type": "code",
   "execution_count": 4,
   "id": "7780bb14",
   "metadata": {},
   "outputs": [],
   "source": [
    "# The send2trash and shutil modules in Python provide functions for deleting files and directories, but they differ in their \n",
    "#  behavior and purpose:\n",
    "\n",
    "# a) send2trash.delete():\n",
    "\n",
    "# i) This function is part of the send2trash module, which is designed specifically for moving files and directories to the\n",
    "#  operating system's trash or recycle bin instead of permanently deleting them.\n",
    "# ii) The delete() function in send2trash sends the specified file or directory to the trash, allowing the user to potentially\n",
    "#  recover it later from the system's trash/recycle bin.\n",
    "# iii) This module is often used in scenarios where you want to provide a safety net for users before permanently deleting\n",
    "#  files or directories.\n",
    "\n",
    "#example:\n",
    "import send2trash\n",
    "\n",
    "# Delete a file by moving it to the trash\n",
    "send2trash.send2trash('file.txt')"
   ]
  },
  {
   "cell_type": "code",
   "execution_count": 5,
   "id": "460a551c",
   "metadata": {},
   "outputs": [],
   "source": [
    "# b) shutil.rmtree():\n",
    "\n",
    "# i) This function is part of the shutil module, which provides various file operations, including copying, moving, \n",
    "#  and deleting files and directories.\n",
    "# ii) The rmtree() function in shutil is used to recursively remove an entire directory tree, including all its files and \n",
    "#  subdirectories.\n",
    "# iii) Unlike send2trash, shutil.rmtree() permanently deletes the specified directory and its contents without moving them\n",
    "#  to the trash.\n",
    "    \n",
    "# example:\n",
    "import shutil\n",
    "\n",
    "# Delete a directory and all its contents permanently\n",
    "shutil.rmtree('new')"
   ]
  },
  {
   "cell_type": "markdown",
   "id": "808f7b68",
   "metadata": {},
   "source": [
    "# 4."
   ]
  },
  {
   "cell_type": "code",
   "execution_count": null,
   "id": "1e63ecba",
   "metadata": {},
   "outputs": [],
   "source": [
    "The equivalent method in ZipFile objects to the open() method in File objects is ZipFile.open(). This method is used to open \n",
    " a file inside the ZIP archive and returns a file-like object that can be read or written to, similar to how the \n",
    " open() method in File objects opens a file on the file system.\n",
    "\n",
    "#example:\n",
    "\n",
    "import zipfile\n",
    "# Open a ZIP file in read mode\n",
    "with zipfile.ZipFile('example.zip', 'r') as zip_file:\n",
    "    # Open a file inside the ZIP archive\n",
    "    with zip_file.open('file_inside_zip.txt') as file_inside_zip:\n",
    "        # Read and print the contents of the file inside the ZIP archive\n",
    "        print(file_inside_zip.read().decode('utf-8'))"
   ]
  },
  {
   "cell_type": "markdown",
   "id": "25efb492",
   "metadata": {},
   "source": [
    "# 5."
   ]
  },
  {
   "cell_type": "code",
   "execution_count": null,
   "id": "b42e7e9f",
   "metadata": {},
   "outputs": [],
   "source": [
    "Here's an example program that searches for files with a specific file extension in a folder tree and copies \n",
    " them to a new folder:\n",
    "        \n"
   ]
  }
 ],
 "metadata": {
  "kernelspec": {
   "display_name": "Python 3 (ipykernel)",
   "language": "python",
   "name": "python3"
  },
  "language_info": {
   "codemirror_mode": {
    "name": "ipython",
    "version": 3
   },
   "file_extension": ".py",
   "mimetype": "text/x-python",
   "name": "python",
   "nbconvert_exporter": "python",
   "pygments_lexer": "ipython3",
   "version": "3.11.5"
  }
 },
 "nbformat": 4,
 "nbformat_minor": 5
}
